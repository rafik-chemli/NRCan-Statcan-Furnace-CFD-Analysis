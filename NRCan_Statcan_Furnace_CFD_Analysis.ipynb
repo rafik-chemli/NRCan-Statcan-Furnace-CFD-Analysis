{
  "nbformat": 4,
  "nbformat_minor": 0,
  "metadata": {
    "colab": {
      "provenance": [],
      "authorship_tag": "ABX9TyO2Ye9sGHa5ZExX53jSN/Xs",
      "include_colab_link": true
    },
    "kernelspec": {
      "name": "python3",
      "display_name": "Python 3"
    },
    "language_info": {
      "name": "python"
    }
  },
  "cells": [
    {
      "cell_type": "markdown",
      "metadata": {
        "id": "view-in-github",
        "colab_type": "text"
      },
      "source": [
        "<a href=\"https://colab.research.google.com/github/rafik-chemli/NRCan-Statcan-Furnace-CFD-Analysis/blob/main/NRCan_Statcan_Furnace_CFD_Analysis.ipynb\" target=\"_parent\"><img src=\"https://colab.research.google.com/assets/colab-badge.svg\" alt=\"Open In Colab\"/></a>"
      ]
    },
    {
      "cell_type": "code",
      "execution_count": null,
      "metadata": {
        "id": "f-hmA5bcGr99"
      },
      "outputs": [],
      "source": []
    }
  ]
}